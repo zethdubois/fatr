{
 "cells": [
  {
   "cell_type": "code",
   "execution_count": 1,
   "id": "2b9da762-e28c-4469-b9ae-626699f8dadd",
   "metadata": {},
   "outputs": [],
   "source": [
    "%load_ext autoreload\n",
    "%autoreload 2"
   ]
  },
  {
   "cell_type": "code",
   "execution_count": 2,
   "id": "dcb92a8f-8a11-4ca4-be4f-359fe979ca39",
   "metadata": {},
   "outputs": [],
   "source": [
    "import pandas as pd\n",
    "import numpy as np\n",
    "import matplotlib.pyplot as plt\n",
    "from matplotlib.lines import Line2D\n",
    "from matplotlib.patches import Patch"
   ]
  },
  {
   "cell_type": "code",
   "execution_count": 20,
   "id": "6a7de798-d48f-42b4-9aa2-ab1bc1a98a90",
   "metadata": {},
   "outputs": [
    {
     "name": "stdout",
     "output_type": "stream",
     "text": [
      "   SUBJECT  trial Expertise       Study Scenario Fault Condition  \\\n",
      "0        1      1  Operator  Dependency     LOFW           Fault   \n",
      "1        1      2  Operator  Dependency     LOFW           Spoof   \n",
      "2        1      3  Operator  Dependency     SGTR           Fault   \n",
      "3        1      4  Operator  Dependency     SGTR           Spoof   \n",
      "4        2      1  Operator  Dependency     SGTR           Spoof   \n",
      "\n",
      "   Mental Demand  Temporal Demand  Perform.  Effort  Frust. Level  \\\n",
      "0              7              3.0        10       7             3   \n",
      "1              4              2.0        10       3             2   \n",
      "2              4              3.0         9       3             2   \n",
      "3              4              2.0         9       4             2   \n",
      "4              2              2.0         9       3             1   \n",
      "\n",
      "   Cooper Harper Plant Outcome  Diagnosis Time    Error  FATR Outcome  \\\n",
      "0            NaN        online             297  correct           NaN   \n",
      "1            3.0      shutdown             400  correct           NaN   \n",
      "2            3.0        online             118  correct           NaN   \n",
      "3            3.0      shutdown             359  correct           NaN   \n",
      "4            2.0        online             278  correct           NaN   \n",
      "\n",
      "   True Fault Logic  outcome logic  Decision  Particpant Batch Correct   \n",
      "0                 1              0         1                        1.0  \n",
      "1                 0              1         1                        NaN  \n",
      "2                 1              0         1                        NaN  \n",
      "3                 0              1         1                        NaN  \n",
      "4                 0              1         1                        1.0  \n"
     ]
    }
   ],
   "source": [
    "import matplotlib.pyplot as plt\n",
    "import sys\n",
    "import os\n",
    "from IPython.display import display, Markdown\n",
    "\n",
    "sys.path.append('plot') \n",
    "\n",
    "import chart\n",
    "\n",
    "# Load the dataset\n",
    "data_path = 'data/depend_only.csv'\n",
    "data = chart.load_data(data_path)\n",
    "print(data.head())\n",
    "# # Prepare the data\n",
    "# group_iv = 'Expertise'\n",
    "# g1 = 'Operators'\n",
    "# g2 = 'Students'\n",
    "# iv1 = 'Scenario'\n",
    "# dv1 = 'Effort'\n",
    "# operators, students, mean_scores_students = chart.prepare_data(data,group_iv,g1,g2,iv1,dv1)\n",
    "# print(operators)\n",
    "# # Create a figure with subplots\n",
    "# fig, axs = plt.subplots(1, 2, figsize=(20, 6))\n",
    "\n",
    "# # Plot using the specific axes\n",
    "# chart.plot_interaction_scores(operators, students, ax=axs[0])\n",
    "# chart.plot_mental_demand_scores(mean_scores_students, ax=axs[1])\n",
    "\n",
    "# plt.tight_layout()\n",
    "# plt.show()\n"
   ]
  },
  {
   "cell_type": "markdown",
   "id": "d3e303a5-d8db-4afd-9aa9-5491199f1d21",
   "metadata": {},
   "source": [
    "##### **Figure 1.** A) Interaction of mental demand scores for both operators and student particpants for Normal and FATR conditions. B) Student mental demand in the Normal and FATR condtions.\r\n"
   ]
  },
  {
   "cell_type": "markdown",
   "id": "5d7898a7-ab35-45e6-96ac-67e632eb0b4a",
   "metadata": {},
   "source": [
    "Discussion: \n",
    "\n",
    "1. Operators vs Student mental demand scores trend in opposite directions than students based on scenario, and show overall lower mean scores (check for significance).\n",
    "2. Mental demand scores compared for only the students between Normal and FATR condtion show lower mean scores, and trend similarly for scenarios (check for significance).\n",
    "\n"
   ]
  },
  {
   "cell_type": "code",
   "execution_count": null,
   "id": "7ac67c3b-ad61-4b92-a03c-28dcb0d8146e",
   "metadata": {},
   "outputs": [],
   "source": [
    "from __future__ import print_function\n",
    "from pyvttbl import DataFrame\n",
    "from pyvttbl.stats import Anova\n",
    "import pandas as pd\n",
    "\n",
    "# -- pvttbl methods\n",
    "df1 = DataFrame()\n",
    "df1.read_tbl('depend_only.csv')\n",
    "\n",
    "# Dep study pivots on expertise.\n",
    "bfactor = \"Expertise\"\n",
    "\n",
    "\n",
    "# df1.write(fname='test.csv')\n",
    "# print(df)\n",
    "\n",
    "# -- pandas\n",
    "# df2 = pd.read_csv('SCORES.csv')\n",
    "# print(df2.head())"
   ]
  },
  {
   "cell_type": "code",
   "execution_count": null,
   "id": "364eef66-eb29-42dd-9ced-71d30a42d804",
   "metadata": {},
   "outputs": [],
   "source": [
    "\n",
    "dv1_values = ['Diagnosis Time']\n",
    "\n",
    "for dv1 in dv1_values:\n",
    "    print(f\"Running ANOVA for: {dv1}\")\n",
    "    \n",
    "    aov = Anova()\n",
    "    aov.run(df1, dv1, wfactors=['Scenario', 'Fault Condition'], bfactors=[bfactor])\n",
    "    \n",
    "    # this would be for between studies\n",
    "    # aov.run(df, dv, bfactors=['Scenario', 'Fault Condition'])\n",
    "    \n",
    "    aov.truncate(test='gg')\n",
    "    print(aov)\n",
    "    print(\"\\n\\n\")\n",
    "\n",
    "# Need interaction plot: Scenario * Skill \n",
    "## Figures only for interactions\n",
    "\n",
    "## main effects with means\n",
    "# F(x,y) = f, p = p, MSE = \n"
   ]
  },
  {
   "cell_type": "code",
   "execution_count": null,
   "id": "2c586631-ff49-4b6e-b5bb-aca9d8bedda2",
   "metadata": {},
   "outputs": [],
   "source": [
    "dv1_values = ['Decision']\n",
    "\n",
    "for dv1 in dv1_values:\n",
    "    print(f\"Running ANOVA for: {dv1}\")\n",
    "    \n",
    "    aov = Anova()\n",
    "    aov.run(df1, dv1, wfactors=['Scenario', 'Fault Condition'], bfactors=[bfactor])\n",
    "    \n",
    "    # this would be for between studies\n",
    "    # aov.run(df, dv, bfactors=['Scenario', 'Fault Condition'])\n",
    "    \n",
    "    aov.truncate(test='gg')\n",
    "    print(aov)\n",
    "    print(\"\\n\\n\")\n",
    "\n",
    "# Need interaction plot: Scenario * Skill \n",
    "## Figures only for interactions\n",
    "\n",
    "## main effects with means\n",
    "# F(x,y) = f, p = p, MSE = \n"
   ]
  },
  {
   "cell_type": "code",
   "execution_count": null,
   "id": "26c6fb17-968d-4592-8878-9ccde440cbec",
   "metadata": {},
   "outputs": [],
   "source": [
    "dv1_values = ['Mental Demand', 'Temporal Demand','Performance','Effort','Frustration Level']\n",
    "for dv1 in dv1_values:\n",
    "    print(f\"Running ANOVA for: {dv1}\")\n",
    "    \n",
    "    aov = Anova()\n",
    "    aov.run(df1, dv1, wfactors=['Scenario', 'Fault Condition'], bfactors=[bfactor])\n",
    "    \n",
    "    # this would be for between studies\n",
    "    # aov.run(df, dv, bfactors=['Scenario', 'Fault Condition'])\n",
    "    \n",
    "    aov.truncate(test='gg')\n",
    "    print(aov)\n",
    "    print(\"\\n\\n\")\n",
    "\n",
    "# Need interaction plot: Scenario * Skill \n",
    "## Figures only for interactions\n",
    "\n",
    "## main effects with means\n",
    "# F(x,y) = f, p = p, MSE = \n"
   ]
  },
  {
   "cell_type": "code",
   "execution_count": null,
   "id": "5b159e76-f415-4df8-a689-e566f0c7e8e3",
   "metadata": {},
   "outputs": [],
   "source": [
    "dv1 = \"Mental Demand\"\n",
    "pt = df.pivot(dv1, ['Skill'], ['Scenario'])\n",
    "print(pt)\n",
    "print(\"\\n\\n\")\n",
    "pt = df.pivot(dv1, ['Fault Condition'], ['Scenario'])\n",
    "print(pt)"
   ]
  },
  {
   "cell_type": "code",
   "execution_count": null,
   "id": "919b2293-4855-4248-8d87-08f60ddfedff",
   "metadata": {},
   "outputs": [],
   "source": [
    "dv1 = \"Temporal Demand\"\n",
    "pt = df.pivot(dv1, ['Skill'], ['Scenario'])\n",
    "print(pt)\n",
    "print(\"\\n\\n\")\n",
    "pt = df.pivot(dv1, ['Fault Condition'], ['Scenario'])\n",
    "print(pt)"
   ]
  },
  {
   "cell_type": "code",
   "execution_count": null,
   "id": "b079d020-2098-4bed-a8ca-7b20a1527f17",
   "metadata": {},
   "outputs": [],
   "source": [
    "dv1 = \"Perform.\"\n",
    "pt = df.pivot(dv1, ['Skill'], ['Scenario'])\n",
    "print(pt)\n",
    "print(\"\\n\\n\")\n",
    "pt = df.pivot(dv1, ['Fault Condition'], ['Scenario'])\n",
    "print(pt)"
   ]
  },
  {
   "cell_type": "code",
   "execution_count": null,
   "id": "a761d813-e2ce-4b33-bb62-4b14d76580ab",
   "metadata": {},
   "outputs": [],
   "source": [
    "#df2 is a pandas dataframe.\n",
    "filtered_df2 = df2[df2['Skill'] == 'Student']\n",
    "#this works\n",
    "\n",
    "#df is a pvttbl dataframe\n",
    "\n",
    "df.where_update([('Skill', '=', \"Student\")])"
   ]
  },
  {
   "cell_type": "markdown",
   "id": "8facb948-bcde-4807-87e6-b777d6dfd323",
   "metadata": {},
   "source": [
    "### Multidemensional Pivot\n",
    "```\n",
    "df.read_tbl('suppression~subjectXgroupXageXcycleXphase.csv')\n",
    "\n",
    "pt = df.pivot('SUPPRESSION',\n",
    "                  rows=['CYCLE', 'PHASE'],\n",
    "                  cols=['GROUP', 'AGE'])\n",
    "print(pt)\n",
    "```"
   ]
  },
  {
   "cell_type": "code",
   "execution_count": null,
   "id": "b95b5509-fc04-4a62-a931-25b5abf504b5",
   "metadata": {},
   "outputs": [],
   "source": [
    "dv1 = \"Perform.\"\n",
    "pt = df.pivot(dv1, \n",
    "              rows=['Study', 'Skill'],\n",
    "              cols=['Scenario', 'Fault Condition'])\n",
    "print(pt)"
   ]
  },
  {
   "cell_type": "code",
   "execution_count": null,
   "id": "4fa656ec-12f8-49e8-9c66-a5b8fa29cdbe",
   "metadata": {},
   "outputs": [],
   "source": [
    "dv_values = ['Perform.', 'Mental Demand', 'Temporal Demand']\n",
    "\n",
    "for dv in dv_values:\n",
    "    print(f\"Pivoting for: {dv}\")\n",
    "    pt = df.pivot(dv1, \n",
    "                  rows=['Study', 'Skill'],\n",
    "                  cols=['Scenario', 'Fault Condition'])\n",
    "    print(pt)\n",
    "    print(\"\\n\\n\")  # Print a separator for readability\n"
   ]
  },
  {
   "cell_type": "code",
   "execution_count": null,
   "id": "e979f970-d55b-41ff-8d25-0d6fd441f064",
   "metadata": {},
   "outputs": [],
   "source": [
    "\n",
    "# import pyvttbl\n",
    "# DF = Fatr only\n",
    "df = DataFrame()\n",
    "df.read_tbl('student_data.csv')\n",
    "\n",
    "# dv_values = ['Perform.', 'Mental Demand', 'Temporal Demand','Cooper Harper', 'Action Logic']\n",
    "dv_values = ['Cooper Harper', 'Action Logic']\n",
    "\n",
    "for dv in dv_values:\n",
    "    print(f\"Running ANOVA for: {dv}\")\n",
    "    \n",
    "    aov = Anova()\n",
    "    aov.run(df, dv, wfactors=['Scenario', 'Fault Condition'], bfactors=['Study'])\n",
    "    \n",
    "    # this would be for between studies\n",
    "    # aov.run(df, dv, bfactors=['Scenario', 'Fault Condition'])\n",
    "    \n",
    "    aov.truncate(test='gg')\n",
    "    print(aov)\n",
    "    print(\"\\n\\n\")\n"
   ]
  },
  {
   "cell_type": "code",
   "execution_count": null,
   "id": "3536f546-3cce-4172-9c3f-20f4186b08a7",
   "metadata": {},
   "outputs": [],
   "source": [
    "# dv_values = ['Perform.', 'Mental Demand', 'Temporal Demand','Cooper Harper', 'Action Logic']\n",
    "df2 = DataFrame()\n",
    "df2.read_tbl('depend.csv')\n",
    "dv2_values = ['Temporal Demand']\n",
    "\n",
    "for dv in dv2_values:\n",
    "    print(f\"Running ANOVA for: {dv}\")\n",
    "    \n",
    "    aov = Anova()\n",
    "    aov.run(df, dv, wfactors=['Scenario', 'Fault Condition'], bfactors=['Study'])\n",
    "    \n",
    "    # this would be for between studies\n",
    "    # aov.run(df, dv, bfactors=['Scenario', 'Fault Condition'])\n",
    "    \n",
    "    aov.truncate(test='gg')\n",
    "    print(aov)\n",
    "    print(\"\\n\\n\")"
   ]
  },
  {
   "cell_type": "code",
   "execution_count": null,
   "id": "ab2883fc-d538-4cfd-be07-8dcfbbaff06a",
   "metadata": {},
   "outputs": [],
   "source": [
    "# dv_values = ['Perform.', 'Mental Demand', 'Temporal Demand','Cooper Harper', 'Action Logic']\n",
    "df2 = DataFrame()\n",
    "df2.read_tbl('student_data.csv')\n",
    "dv2_values = ['Diagnosis Time']\n",
    "\n",
    "for dv in dv2_values:\n",
    "    print(f\"Running ANOVA for: {dv}\")\n",
    "    \n",
    "    aov = Anova()\n",
    "    aov.run(df2, dv, wfactors=['Scenario', 'Fault Condition'], bfactors=['Study'])\n",
    "    \n",
    "    # this would be for between studies\n",
    "    # aov.run(df, dv, bfactors=['Scenario', 'Fault Condition'])\n",
    "    \n",
    "    aov.truncate(test='gg')\n",
    "    print(aov)\n",
    "    print(\"\\n\\n\")"
   ]
  },
  {
   "cell_type": "code",
   "execution_count": null,
   "id": "d26991db-e4d9-4216-bb68-3086e0bd63f7",
   "metadata": {},
   "outputs": [],
   "source": [
    "# Dep Only\n",
    "df2 = DataFrame()\n",
    "df2.read_tbl('depend_only.csv')\n",
    "dv2_values = ['Decision']\n",
    "\n",
    "for dv in dv2_values:\n",
    "    print(f\"Running ANOVA for: {dv}\")\n",
    "    \n",
    "    aov = Anova()\n",
    "    aov.run(df2, dv, wfactors=['Scenario', 'Fault Condition'], bfactors=['Skill'])\n",
    "    \n",
    "    # this would be for between studies\n",
    "    # aov.run(df, dv, bfactors=['Scenario', 'Fault Condition'])\n",
    "    \n",
    "    aov.truncate(test='gg')\n",
    "    print(aov)\n",
    "    print(\"\\n\\n\")"
   ]
  }
 ],
 "metadata": {
  "kernelspec": {
   "display_name": "Python 3 (ipykernel)",
   "language": "python",
   "name": "python3"
  },
  "language_info": {
   "codemirror_mode": {
    "name": "ipython",
    "version": 3
   },
   "file_extension": ".py",
   "mimetype": "text/x-python",
   "name": "python",
   "nbconvert_exporter": "python",
   "pygments_lexer": "ipython3",
   "version": "3.10.12"
  }
 },
 "nbformat": 4,
 "nbformat_minor": 5
}
