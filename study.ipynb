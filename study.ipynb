{
 "cells": [
  {
   "cell_type": "code",
   "execution_count": 12,
   "id": "fc2122cd-5230-44d5-8632-a9d65930327d",
   "metadata": {},
   "outputs": [
    {
     "ename": "NameError",
     "evalue": "name 'combined_design' is not defined",
     "output_type": "error",
     "traceback": [
      "\u001b[1;31m---------------------------------------------------------------------------\u001b[0m",
      "\u001b[1;31mNameError\u001b[0m                                 Traceback (most recent call last)",
      "Cell \u001b[1;32mIn[12], line 25\u001b[0m\n\u001b[0;32m      4\u001b[0m dependency_rancor_design \u001b[38;5;241m=\u001b[39m pd\u001b[38;5;241m.\u001b[39mDataFrame({\n\u001b[0;32m      5\u001b[0m     \u001b[38;5;124m\"\u001b[39m\u001b[38;5;124mStudy\u001b[39m\u001b[38;5;124m\"\u001b[39m: \u001b[38;5;124m\"\u001b[39m\u001b[38;5;124mDependency - Rancor\u001b[39m\u001b[38;5;124m\"\u001b[39m, \u001b[38;5;124m\"\u001b[39m\u001b[38;5;124mGroup\u001b[39m\u001b[38;5;124m\"\u001b[39m: [\u001b[38;5;124m\"\u001b[39m\u001b[38;5;124mExpert\u001b[39m\u001b[38;5;124m\"\u001b[39m, \u001b[38;5;124m\"\u001b[39m\u001b[38;5;124mExpert\u001b[39m\u001b[38;5;124m\"\u001b[39m, \u001b[38;5;124m\"\u001b[39m\u001b[38;5;124mExpert\u001b[39m\u001b[38;5;124m\"\u001b[39m, \u001b[38;5;124m\"\u001b[39m\u001b[38;5;124mExpert\u001b[39m\u001b[38;5;124m\"\u001b[39m, \u001b[38;5;124m\"\u001b[39m\u001b[38;5;124mNovice\u001b[39m\u001b[38;5;124m\"\u001b[39m, \u001b[38;5;124m\"\u001b[39m\u001b[38;5;124mNovice\u001b[39m\u001b[38;5;124m\"\u001b[39m, \u001b[38;5;124m\"\u001b[39m\u001b[38;5;124mNovice\u001b[39m\u001b[38;5;124m\"\u001b[39m, \u001b[38;5;124m\"\u001b[39m\u001b[38;5;124mNovice\u001b[39m\u001b[38;5;124m\"\u001b[39m],\n\u001b[0;32m      6\u001b[0m     \u001b[38;5;124m\"\u001b[39m\u001b[38;5;124mScenario\u001b[39m\u001b[38;5;124m\"\u001b[39m: [\u001b[38;5;124m\"\u001b[39m\u001b[38;5;124mLOFW\u001b[39m\u001b[38;5;124m\"\u001b[39m, \u001b[38;5;124m\"\u001b[39m\u001b[38;5;124mLOFW\u001b[39m\u001b[38;5;124m\"\u001b[39m, \u001b[38;5;124m\"\u001b[39m\u001b[38;5;124mSGTR\u001b[39m\u001b[38;5;124m\"\u001b[39m, \u001b[38;5;124m\"\u001b[39m\u001b[38;5;124mSGTR\u001b[39m\u001b[38;5;124m\"\u001b[39m, \u001b[38;5;124m\"\u001b[39m\u001b[38;5;124mLOFW\u001b[39m\u001b[38;5;124m\"\u001b[39m, \u001b[38;5;124m\"\u001b[39m\u001b[38;5;124mLOFW\u001b[39m\u001b[38;5;124m\"\u001b[39m, \u001b[38;5;124m\"\u001b[39m\u001b[38;5;124mSGTR\u001b[39m\u001b[38;5;124m\"\u001b[39m, \u001b[38;5;124m\"\u001b[39m\u001b[38;5;124mSGTR\u001b[39m\u001b[38;5;124m\"\u001b[39m],\n\u001b[0;32m      7\u001b[0m     \u001b[38;5;124m\"\u001b[39m\u001b[38;5;124mCondition\u001b[39m\u001b[38;5;124m\"\u001b[39m: [\u001b[38;5;124m\"\u001b[39m\u001b[38;5;124mTrue Fault\u001b[39m\u001b[38;5;124m\"\u001b[39m, \u001b[38;5;124m\"\u001b[39m\u001b[38;5;124mCyber Fault\u001b[39m\u001b[38;5;124m\"\u001b[39m, \u001b[38;5;124m\"\u001b[39m\u001b[38;5;124mTrue Fault\u001b[39m\u001b[38;5;124m\"\u001b[39m, \u001b[38;5;124m\"\u001b[39m\u001b[38;5;124mCyber Fault\u001b[39m\u001b[38;5;124m\"\u001b[39m, \u001b[38;5;124m\"\u001b[39m\u001b[38;5;124mTrue Fault\u001b[39m\u001b[38;5;124m\"\u001b[39m, \u001b[38;5;124m\"\u001b[39m\u001b[38;5;124mCyber Fault\u001b[39m\u001b[38;5;124m\"\u001b[39m, \u001b[38;5;124m\"\u001b[39m\u001b[38;5;124mTrue Fault\u001b[39m\u001b[38;5;124m\"\u001b[39m, \u001b[38;5;124m\"\u001b[39m\u001b[38;5;124mCyber Fault\u001b[39m\u001b[38;5;124m\"\u001b[39m],\n\u001b[0;32m      8\u001b[0m     \u001b[38;5;124m\"\u001b[39m\u001b[38;5;124mProcedure\u001b[39m\u001b[38;5;124m\"\u001b[39m: \u001b[38;5;124m\"\u001b[39m\u001b[38;5;124mDefault\u001b[39m\u001b[38;5;124m\"\u001b[39m\n\u001b[0;32m      9\u001b[0m })\n\u001b[0;32m     11\u001b[0m \u001b[38;5;66;03m# For the \"FATR - Rancor\" study\u001b[39;00m\n\u001b[0;32m     12\u001b[0m \u001b[38;5;66;03m# fatr_rancor_design = pd.DataFrame({\u001b[39;00m\n\u001b[0;32m     13\u001b[0m \u001b[38;5;66;03m#     \"Study\": \"FATR - Rancor\",\u001b[39;00m\n\u001b[1;32m   (...)\u001b[0m\n\u001b[0;32m     22\u001b[0m \n\u001b[0;32m     23\u001b[0m \u001b[38;5;66;03m# combined_designue)\u001b[39;00m\n\u001b[1;32m---> 25\u001b[0m \u001b[43mcombined_design\u001b[49m\n",
      "\u001b[1;31mNameError\u001b[0m: name 'combined_design' is not defined"
     ]
    }
   ],
   "source": [
    "# Define the structure of the studies' design\n",
    "import pandas as pd\n",
    "# For the \"Dependency - Rancor\" study\n",
    "dependency_rancor_design = pd.DataFrame({\n",
    "    \"Study\": \"Dependency - Rancor\", \"Group\": [\"Expert\", \"Expert\", \"Expert\", \"Expert\", \"Novice\", \"Novice\", \"Novice\", \"Novice\"],\n",
    "    \"Scenario\": [\"LOFW\", \"LOFW\", \"SGTR\", \"SGTR\", \"LOFW\", \"LOFW\", \"SGTR\", \"SGTR\"],\n",
    "    \"Condition\": [\"True Fault\", \"Cyber Fault\", \"True Fault\", \"Cyber Fault\", \"True Fault\", \"Cyber Fault\", \"True Fault\", \"Cyber Fault\"],\n",
    "    \"Procedure\": \"Default\"\n",
    "})\n",
    "\n",
    "# For the \"FATR - Rancor\" study\n",
    "# fatr_rancor_design = pd.DataFrame({\n",
    "#     \"Study\": \"FATR - Rancor\",\n",
    "#     \"Group\": [\"Novice\", \"Novice\", \"Novice\", \"Novice\"],\n",
    "#     \"Scenario\": [\"LOFW\", \"LOFW\", \"SGTR\", \"SGTR\"],\n",
    "#     \"Condition\": [\"True Fault\", \"Cyber Fault\", \"True Fault\", \"Cyber Fault\"],\n",
    "#     \"Procedure\": \"Experimental FATR\"\n",
    "# })\n",
    "\n",
    "# Combine the two study designs\n",
    "# combined_design = pd.concat([dependency_rancor_design, fatr_rancor_design], ignore_index=True)\n",
    "\n",
    "# combined_designue)\r\n",
    "\r\n",
    "combined_design"
   ]
  }
 ],
 "metadata": {
  "kernelspec": {
   "display_name": "Python 3 (ipykernel)",
   "language": "python",
   "name": "python3"
  },
  "language_info": {
   "codemirror_mode": {
    "name": "ipython",
    "version": 3
   },
   "file_extension": ".py",
   "mimetype": "text/x-python",
   "name": "python",
   "nbconvert_exporter": "python",
   "pygments_lexer": "ipython3",
   "version": "3.10.12"
  }
 },
 "nbformat": 4,
 "nbformat_minor": 5
}
