{
 "cells": [
  {
   "cell_type": "code",
   "execution_count": 1,
   "id": "d8fdd7b2-45e5-4216-8973-7b74d4739ca5",
   "metadata": {},
   "outputs": [],
   "source": [
    "import matplotlib.pyplot as plt\n",
    "import matplotlib.gridspec as gridspec\n",
    "\n",
    "def plot_interactions(title, data):\n",
    "    filename = title.replace(' ', '_')\n",
    "\n",
    "    # Double the size of all text elements\n",
    "    plt.rcParams.update({'font.size': plt.rcParams['font.size'] * 2})\n",
    "\n",
    "    # Set the figure size and GridSpec layout\n",
    "    fig = plt.figure(figsize=(20, 10))  # Adjusted figure size for better layout\n",
    "    gs = gridspec.GridSpec(1, 2, width_ratios=[1, 1])  # Equal width for both subplots\n",
    "\n",
    "    # Create subplots using the GridSpec layout\n",
    "    axs = [plt.subplot(gs[0]), plt.subplot(gs[1])]\n",
    "\n",
    "    # Generalize plotting for any number of plots\n",
    "    for idx, (key, val) in enumerate(data.items()):\n",
    "        for line in val[\"lines\"]:\n",
    "            axs[idx].errorbar(val[\"x_levels\"], line[\"data\"], yerr=line[\"error\"], fmt=line[\"fmt\"],\n",
    "                              label=line[\"label\"], color=line[\"color\"], linewidth=2, markersize=10)\n",
    "        axs[idx].set_title(val[\"title\"])\n",
    "        axs[idx].set_xlabel(val[\"xlabel\"])\n",
    "        axs[idx].set_ylabel(val[\"ylabel\"])\n",
    "        axs[idx].legend()\n",
    "\n",
    "    # Adding a super title for the entire figure\n",
    "    plt.suptitle(title, fontsize=28, y=1.015)\n",
    "\n",
    "    plt.tight_layout()\n",
    "    plt.savefig(f'{filename}.eps', format='eps', dpi=300, bbox_inches='tight')\n",
    "    plt.savefig(f'{filename}.png', format='png', dpi=300, bbox_inches='tight')\n",
    "\n",
    "    plt.show()\n",
    "\n",
    "    # Reset plt.rcParams to default if needed for other plots in the notebook\n",
    "    plt.rcParams.update(plt.rcParamsDefault)\n"
   ]
  }
 ],
 "metadata": {
  "kernelspec": {
   "display_name": "Python 3 (ipykernel)",
   "language": "python",
   "name": "python3"
  },
  "language_info": {
   "codemirror_mode": {
    "name": "ipython",
    "version": 3
   },
   "file_extension": ".py",
   "mimetype": "text/x-python",
   "name": "python",
   "nbconvert_exporter": "python",
   "pygments_lexer": "ipython3",
   "version": "3.10.12"
  }
 },
 "nbformat": 4,
 "nbformat_minor": 5
}
