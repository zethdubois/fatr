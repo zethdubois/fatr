{
 "cells": [
  {
   "cell_type": "markdown",
   "id": "f6e35686-b53d-478a-8da8-339430074a7c",
   "metadata": {},
   "source": [
    "| Measure         | Description                                                                           |\n",
    "|-----------------|---------------------------------------------------------------------------------------|\n",
    "| Decision        | \"Correct\" and \"incorrect\" choice.                                                     |\n",
    "| Diagnosis Time  | In seconds, from simulator start time until participant begins to initiate shut down. |\n",
    "| NASA-TLX        | Aggregate measure; 1 - 10 with 1 indicating best score, 10 the worst.                 |\n",
    "| Cooper Harper   | 1 - 10 self-assessed score; 1 is best, 10 the worst.                                   |\n"
   ]
  },
  {
   "cell_type": "markdown",
   "id": "ab782146-9f92-4d71-b36d-7cd478803693",
   "metadata": {},
   "source": [
    "| Phase                             | Details                                                                         |\n",
    "|-----------------------------------|---------------------------------------------------------------------------------|\n",
    "| Consent                           |                                                                                 |\n",
    "| Introduction and Familiarization  | 5-8 minutes: Basic nuclear power plants and Rancor simulator; Cyber threats, I&C malfunctions, and unnecessary shutdowns |\n",
    "| Practice Trial                    | Guided simulator operation; Abnormal rapid plant shutdown procedure             |\n",
    "| Experimental Trials (Block of Four)| LOFW and SGTR scenarios; True Fault and Spoof conditions; Latin-square design   |\n",
    "| Post-Trial Surveys                | NASA-TLX (after each trial); Post-study survey (after final trial)              |\n"
   ]
  }
 ],
 "metadata": {
  "kernelspec": {
   "display_name": "Python 3 (ipykernel)",
   "language": "python",
   "name": "python3"
  },
  "language_info": {
   "codemirror_mode": {
    "name": "ipython",
    "version": 3
   },
   "file_extension": ".py",
   "mimetype": "text/x-python",
   "name": "python",
   "nbconvert_exporter": "python",
   "pygments_lexer": "ipython3",
   "version": "3.10.12"
  }
 },
 "nbformat": 4,
 "nbformat_minor": 5
}
