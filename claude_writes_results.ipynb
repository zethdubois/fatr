{
 "cells": [
  {
   "cell_type": "code",
   "execution_count": 1,
   "id": "6b5dfcfa-676c-44d6-a5a9-7904d1a62cc6",
   "metadata": {},
   "outputs": [],
   "source": [
    "%load_ext autoreload\n",
    "%autoreload 2"
   ]
  },
  {
   "cell_type": "code",
   "execution_count": 3,
   "id": "5093d3cf-40f5-4f86-9970-7dcd73c23d24",
   "metadata": {},
   "outputs": [
    {
     "name": "stdout",
     "output_type": "stream",
     "text": [
      "API key is set. Proceeding with normal operation.\n",
      "Provide instructions in conversational text, and a LaTeX template for the analysis output\n"
     ]
    },
    {
     "data": {
      "application/vnd.jupyter.widget-view+json": {
       "model_id": "3de0aa9238b645f08a1a02d413222ef8",
       "version_major": 2,
       "version_minor": 0
      },
      "text/plain": [
       "VBox(children=(HBox(children=(Textarea(value='', description='Instructions:', layout=Layout(height='300px', wi…"
      ]
     },
     "metadata": {},
     "output_type": "display_data"
    }
   ],
   "source": [
    "import sys\n",
    "import os\n",
    "sys.path.append('src')  \n",
    "from claude import condition_claude\n",
    "\n",
    "condition_claude()"
   ]
  },
  {
   "cell_type": "code",
   "execution_count": 4,
   "id": "08974c67-9a12-4f96-86e0-db15a35b149c",
   "metadata": {},
   "outputs": [
    {
     "data": {
      "application/vnd.jupyter.widget-view+json": {
       "model_id": "1ec38ff5cc2646cdbc465c615104cdae",
       "version_major": 2,
       "version_minor": 0
      },
      "text/plain": [
       "HBox(children=(Textarea(value='', description='Instructions:', layout=Layout(height='300px', width='100%'), pl…"
      ]
     },
     "metadata": {},
     "output_type": "display_data"
    },
    {
     "data": {
      "application/vnd.jupyter.widget-view+json": {
       "model_id": "cebc840f4dd94a27b8a25fb4f7541900",
       "version_major": 2,
       "version_minor": 0
      },
      "text/plain": [
       "Button(button_style='success', description='Submit to Claude', style=ButtonStyle(), tooltip='Click to submit')"
      ]
     },
     "metadata": {},
     "output_type": "display_data"
    },
    {
     "data": {
      "application/vnd.jupyter.widget-view+json": {
       "model_id": "5a1f3e9e04c8440d8ef5c2921e45ee01",
       "version_major": 2,
       "version_minor": 0
      },
      "text/plain": [
       "Output()"
      ]
     },
     "metadata": {},
     "output_type": "display_data"
    }
   ],
   "source": [
    "import ipywidgets as widgets\n",
    "from IPython.display import display\n",
    "\n",
    "# Create an Output widget to capture and display output dynamically\n",
    "output = widgets.Output()\n",
    "\n",
    "def on_submit_button_clicked(b):\n",
    "    with output:\n",
    "        output.clear_output()\n",
    "        print(\"Instructions Content:\", f'{instructions_textarea.value[:40]}...')\n",
    "        print(\"Template Content:\", f'{template_textarea.value[:40]}...')\n",
    "\n",
    "\n",
    "template_textarea = widgets.Textarea(\n",
    "    value='',\n",
    "    placeholder='Enter LaTeX template...',\n",
    "    description='Template:',\n",
    "    disabled=False,\n",
    "    layout={'width': '100%', 'height': '300px'}\n",
    ")\n",
    "\n",
    "instructions_textarea = widgets.Textarea(\n",
    "    value='',\n",
    "    placeholder='Enter written instructions...',\n",
    "    description='Instructions:',\n",
    "    disabled=False,\n",
    "    layout={'width': '100%', 'height': '300px'}\n",
    ")\n",
    "\n",
    "\n",
    "submit_button = widgets.Button(\n",
    "    description='Submit to Claude',\n",
    "    button_style='success',\n",
    "    tooltip='Click to submit'\n",
    ")\n",
    "\n",
    "output = widgets.Output()\n",
    "\n",
    "# Link the event handler function to the button\n",
    "submit_button.on_click(on_submit_button_clicked)\n",
    "\n",
    "# Arrange the text areas horizontally\n",
    "text_areas_hbox = widgets.HBox([instructions_textarea,template_textarea])\n",
    "\n",
    "# Display everything\n",
    "display(text_areas_hbox, submit_button, output)\n",
    "\n"
   ]
  },
  {
   "cell_type": "code",
   "execution_count": 16,
   "id": "118a5a6e-5177-444d-8cb0-937b898235d9",
   "metadata": {},
   "outputs": [
    {
     "name": "stdout",
     "output_type": "stream",
     "text": [
      "Textarea(value='\\\\begin{description}\\n    \\\\item[Effects on {DV}] Analysis revealed ...\\n        \\\\paragraph{Main effects}\\n            \\\\begin{itemize}\\n                \\\\item {list f size and marginal means for each IV}.\\n                \\\\item {IV2....}\\n            \\\\end{itemize}\\n        \\\\paragraph{Two-way interactions}\\n            \\\\begin{itemize}\\n                \\\\item {analysis on two-way interactions, if any...}\\n                \\\\item {etc..\\n            \\\\end{itemize}\\n\\n            {Final analysis summary in 1 or 2 sentences}\\\\\\\\\\n\\\\end{description}', description='Template:', layout=Layout(height='300px', width='80%'), placeholder='..replace with LaTEX')\n"
     ]
    }
   ],
   "source": []
  },
  {
   "cell_type": "markdown",
   "id": "0459ca85-0d76-40c9-b8c6-16adf486f725",
   "metadata": {},
   "source": [
    "```tex\n",
    "\\begin{description}\n",
    "    \\item[Effects on {DV}] Analysis revealed ...\n",
    "        \\paragraph{Main effects}\n",
    "            \\begin{itemize}\n",
    "                \\item {list f size and marginal means for each IV}.\n",
    "                \\item {IV2....}\n",
    "            \\end{itemize}\n",
    "        \\paragraph{Two-way interactions}\n",
    "            \\begin{itemize}\n",
    "                \\item {analysis on two-way interactions, if any...}\n",
    "                \\item {etc..\n",
    "            \\end{itemize}\n",
    "\n",
    "            {Final analysis summary in 1 or 2 sentences}\\\\\n",
    "\\end{description}\n",
    "```"
   ]
  },
  {
   "cell_type": "code",
   "execution_count": 3,
   "id": "e6278f36-b297-4e36-bffe-bc2a02af67d4",
   "metadata": {},
   "outputs": [
    {
     "name": "stdout",
     "output_type": "stream",
     "text": [
      "** FATR Study **\n",
      "Running ANOVA for: Decision\n",
      "('Scenario',)\n",
      "('Study',)\n",
      "('Fault', 'Study')\n",
      "('Scenario', 'Fault', 'Study')\n",
      "\n",
      "** Partial AOV Dictionary:\n"
     ]
    },
    {
     "ename": "NameError",
     "evalue": "name 'aov_dict' is not defined",
     "output_type": "error",
     "traceback": [
      "\u001b[0;31m---------------------------------------------------------------------------\u001b[0m",
      "\u001b[0;31mNameError\u001b[0m                                 Traceback (most recent call last)",
      "Cell \u001b[0;32mIn[3], line 101\u001b[0m\n\u001b[1;32m     99\u001b[0m \u001b[38;5;28;01mif\u001b[39;00m \u001b[38;5;129;01mnot\u001b[39;00m HUMAN_READABLE:\n\u001b[1;32m    100\u001b[0m     \u001b[38;5;28mprint\u001b[39m(\u001b[38;5;124m\"\u001b[39m\u001b[38;5;130;01m\\n\u001b[39;00m\u001b[38;5;124m** Partial AOV Dictionary:\u001b[39m\u001b[38;5;124m\"\u001b[39m)\n\u001b[0;32m--> 101\u001b[0m     \u001b[38;5;28;01mif\u001b[39;00m \u001b[38;5;28misinstance\u001b[39m(\u001b[43maov_dict\u001b[49m, \u001b[38;5;28mdict\u001b[39m):\n\u001b[1;32m    102\u001b[0m         print_partial_dict(aov_dict)\n\u001b[1;32m    103\u001b[0m     \u001b[38;5;28;01melif\u001b[39;00m \u001b[38;5;28misinstance\u001b[39m(aov_dict, (\u001b[38;5;28mlist\u001b[39m, \u001b[38;5;28mtuple\u001b[39m)):\n",
      "\u001b[0;31mNameError\u001b[0m: name 'aov_dict' is not defined"
     ]
    }
   ],
   "source": [
    "import os\n",
    "import pandas as pd\n",
    "from pyvttbl import DataFrame\n",
    "from pyvttbl.stats import Anova\n",
    "import numpy as np\n",
    "import pprint\n",
    "\n",
    "# Define study variables\n",
    "# Set to True for FATR study, False for Depend study\n",
    "STUDY_FATR = False  \n",
    "STUDY_FATR = True\n",
    "# True for human-readable output, False for structured data\n",
    "HUMAN_READABLE = True  \n",
    "HUMAN_READABLE = False\n",
    "\n",
    "## Set DVs >> process multiple in one list, or just one at a time seems easier... \n",
    "DV = 'Diagnosis Time'\n",
    "DV = 'Cooper Harper'\n",
    "DV = 'NasaTLX'\n",
    "DV = 'Decision'\n",
    "\n",
    "# Paths and filenames\n",
    "DATA_DIR = 'data'\n",
    "TEMP_CSV_PATH = 'temp_cleaned_data.csv'\n",
    "\n",
    "# Determine study based on STUDY_FATR flag\n",
    "if STUDY_FATR:\n",
    "    print(\"** FATR Study **\")\n",
    "    source_filename = 'fatr_students.csv'\n",
    "    between_factor = \"Study\"\n",
    "else:\n",
    "    print(\"** Depend Study **\")\n",
    "    source_filename = 'depend_only.csv'\n",
    "    between_factor = \"Expertise\"\n",
    "\n",
    "source_path = os.path.join(DATA_DIR, source_filename)\n",
    "\n",
    "# Load and preprocess data\n",
    "df_pandas = pd.read_csv(source_path)\n",
    "\n",
    "if DV == \"NasaTLX\":\n",
    "    print(\"Creating NasaTLX composite measure...\")\n",
    "    # Invert 'Performance' scores and fill missing values with median\n",
    "    df_pandas['Performance'] = 11 - df_pandas['Performance']\n",
    "    columns = ['Performance', 'Temporal Demand', 'Frustration Level', 'Mental Demand', 'Effort']\n",
    "    for column in columns:\n",
    "        median = df_pandas[column].median()\n",
    "        df_pandas[column].fillna(median, inplace=True)\n",
    "    # Calculate the NasaTLX composite score\n",
    "    df_pandas['NasaTLX'] = df_pandas[columns].mean(axis=1)\n",
    "else:\n",
    "    # Drop rows with missing values in the DV\n",
    "    df_pandas.dropna(subset=[DV], inplace=True)\n",
    "\n",
    "# Save cleaned data to temporary CSV\n",
    "df_pandas.to_csv(TEMP_CSV_PATH, index=False)\n",
    "\n",
    "# Load data into pyvttbl DataFrame for ANOVA\n",
    "df_pyvttbl = DataFrame()\n",
    "df_pyvttbl.read_tbl(TEMP_CSV_PATH)\n",
    "\n",
    "# ANOVA settings\n",
    "wfactors = ['Scenario', 'Fault']\n",
    "bfactors = [between_factor]\n",
    "\n",
    "# Run ANOVA\n",
    "print(f\"Running ANOVA for: {DV}\")\n",
    "aov = Anova()\n",
    "aov.run(df_pyvttbl, DV, wfactors=wfactors, bfactors=bfactors)\n",
    "aov.truncate(test='gg')\n",
    "\n",
    "# Human-readable output\n",
    "if HUMAN_READABLE:\n",
    "    print(f'{aov}\\n\\n')\n",
    "\n",
    "aov_dict_str = str(dict(aov))\n",
    "marginal_means_str = str(aov.get_marginal_means(['Scenario', 'Fault', between_factor]))\n",
    "\n",
    "# Combine the two strings with a separator for clarity\n",
    "combined_summary = \"ANOVA Results:\\n\" + aov_dict_str + \"\\n\\nMarginal Means:\\n\" + marginal_means_str\n",
    "\n",
    "\n",
    "# These variables now hold the raw data in whatever format they originally had\n",
    "# For example, aov_dict could be a dictionary with various statistics,\n",
    "# and marginal_means could be a pandas DataFrame or a dictionary\n",
    "\n",
    "def print_partial_dict(d, limit=1):\n",
    "    \"\"\"Print a limited number of key-value pairs from a dictionary.\"\"\"\n",
    "    for i, (key, value) in enumerate(d.items()):\n",
    "        if i >= limit: break\n",
    "        print(f\"{key}: {value}\")\n",
    "\n",
    "def print_partial_list(lst, limit=1):\n",
    "    \"\"\"Print a limited number of items from a list or tuple.\"\"\"\n",
    "    for item in lst[:limit]:\n",
    "        print(item)\n",
    "\n",
    "\n",
    "if not HUMAN_READABLE:\n",
    "    print(\"\\n** Partial AOV Dictionary:\")\n",
    "    if isinstance(aov_dict, dict):\n",
    "        print_partial_dict(aov_dict)\n",
    "    elif isinstance(aov_dict, (list, tuple)):\n",
    "        print_partial_list(aov_dict)\n",
    "    else:\n",
    "        print(aov_dict)  # Fallback if it's neither a dict nor a list/tuple\n",
    "    \n",
    "    print(\"\\n** Partial Marginal Means:\")\n",
    "    if isinstance(marginal_means, dict):\n",
    "        print_partial_dict(marginal_means)\n",
    "    elif isinstance(marginal_means, (list, tuple)):\n",
    "        print_partial_list(marginal_means)\n",
    "    else:\n",
    "        print(marginal_means)  # Fallback if it's neither a dict nor a list/tuple\n",
    "\n",
    "\n"
   ]
  }
 ],
 "metadata": {
  "kernelspec": {
   "display_name": "Python 3 (ipykernel)",
   "language": "python",
   "name": "python3"
  },
  "language_info": {
   "codemirror_mode": {
    "name": "ipython",
    "version": 3
   },
   "file_extension": ".py",
   "mimetype": "text/x-python",
   "name": "python",
   "nbconvert_exporter": "python",
   "pygments_lexer": "ipython3",
   "version": "3.10.12"
  }
 },
 "nbformat": 4,
 "nbformat_minor": 5
}
